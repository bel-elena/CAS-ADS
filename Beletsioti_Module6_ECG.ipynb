{
  "nbformat": 4,
  "nbformat_minor": 0,
  "metadata": {
    "colab": {
      "provenance": [],
      "authorship_tag": "ABX9TyNdGkqB3CRQHiNYKgY5/vcr",
      "include_colab_link": true
    },
    "kernelspec": {
      "name": "python3",
      "display_name": "Python 3"
    },
    "language_info": {
      "name": "python"
    }
  },
  "cells": [
    {
      "cell_type": "markdown",
      "metadata": {
        "id": "view-in-github",
        "colab_type": "text"
      },
      "source": [
        "<a href=\"https://colab.research.google.com/github/bel-elena/CAS-ADS/blob/main/Beletsioti_Module6_ECG.ipynb\" target=\"_parent\"><img src=\"https://colab.research.google.com/assets/colab-badge.svg\" alt=\"Open In Colab\"/></a>"
      ]
    },
    {
      "cell_type": "markdown",
      "source": [
        "Elena Beletsioti, CAS ADS, UniBe, Module 6"
      ],
      "metadata": {
        "id": "JTjohduE7vDE"
      }
    },
    {
      "cell_type": "markdown",
      "source": [
        "# Goal"
      ],
      "metadata": {
        "id": "RE_cVFJ4zbMT"
      }
    },
    {
      "cell_type": "markdown",
      "source": [
        "The MIT-BIH Arrhythmia Dataset is a well-known dataset used in heartbeat classification, which involve analyzing electrocardiogram (ECG) signals to diagnose cardiac arrhythmias and other heart-related conditions.\n",
        "\n",
        "The MIT-BIH Arrhythmia Dataset contains ECG signals collected from 47 subjects, with each recording lasting for around 30 minutes. The dataset contains a total of 109,446 heartbeats, with annotations for 5 different types of arrhythmias, as well as normal heartbeats. The dataset has been widely used for benchmarking different heartbeat classification algorithms, including deep neural networks.\n",
        "\n",
        "This dataset has been used extensively in the development of deep neural network models for heartbeat classification. Goal of this notebook is to build  models using convolutional neural networks, to analyze the ECG signals and identify different types of heartbeats. \n",
        "\n",
        "We will use the MIT-BIH Arrhythmia Dataset for benchmarking different heartbeat classification because of its relatively large size and diversity of arrhythmia types we believe it is a good choice for developing and evaluating classification models. \n",
        "\n",
        "Dataset can be downloaded here: https://www.physionet.org/content/mitdb/1.0.0/"
      ],
      "metadata": {
        "id": "FKH_JA1kzPTL"
      }
    },
    {
      "cell_type": "markdown",
      "source": [
        "## 1. Import modules we may need"
      ],
      "metadata": {
        "id": "tuRbpxGOzS0A"
      }
    },
    {
      "cell_type": "code",
      "source": [
        "import numpy as np \n",
        "import pandas as pd \n",
        "import matplotlib.pyplot as plt\n",
        "from sklearn.utils import resample"
      ],
      "metadata": {
        "id": "R9PZwVRffBOC"
      },
      "execution_count": 1,
      "outputs": []
    },
    {
      "cell_type": "code",
      "source": [
        "from sklearn.model_selection import train_test_split\n",
        "from sklearn.preprocessing import normalize\n",
        "from sklearn.metrics import classification_report\n",
        "from sklearn.metrics import ConfusionMatrixDisplay\n",
        "from sklearn.metrics import confusion_matrix\n",
        "\n",
        "import tensorflow as tf\n",
        "\n",
        "!pip install tensorflow-addons==0.16.1\n",
        "import tensorflow_addons as tfa\n",
        "\n",
        "from tensorflow import keras\n",
        "from tensorflow.keras.layers import Dense, Conv1D, MaxPool1D, Flatten, Dropout, InputLayer, LSTM, GRU, BatchNormalization, Bidirectional, Concatenate\n",
        "from tensorflow.keras.models import Model\n",
        "from tensorflow.keras.callbacks import EarlyStopping, ModelCheckpoint\n",
        "from tensorflow.keras.preprocessing import sequence\n",
        "from tensorflow.keras.optimizers import SGD, RMSprop\n",
        "from tensorflow.keras.utils import to_categorical"
      ],
      "metadata": {
        "colab": {
          "base_uri": "https://localhost:8080/"
        },
        "id": "0emjmE3We1x1",
        "outputId": "55773dd0-02ce-4936-f333-f2397711c03c"
      },
      "execution_count": 34,
      "outputs": [
        {
          "output_type": "stream",
          "name": "stdout",
          "text": [
            "Looking in indexes: https://pypi.org/simple, https://us-python.pkg.dev/colab-wheels/public/simple/\n",
            "Collecting tensorflow-addons==0.16.1\n",
            "  Downloading tensorflow_addons-0.16.1-cp39-cp39-manylinux_2_12_x86_64.manylinux2010_x86_64.whl (1.1 MB)\n",
            "\u001b[2K     \u001b[90m━━━━━━━━━━━━━━━━━━━━━━━━━━━━━━━━━━━━━━━━\u001b[0m \u001b[32m1.1/1.1 MB\u001b[0m \u001b[31m14.4 MB/s\u001b[0m eta \u001b[36m0:00:00\u001b[0m\n",
            "\u001b[?25hCollecting typeguard>=2.7\n",
            "  Downloading typeguard-3.0.2-py3-none-any.whl (30 kB)\n",
            "Requirement already satisfied: typing-extensions>=4.4.0 in /usr/local/lib/python3.9/dist-packages (from typeguard>=2.7->tensorflow-addons==0.16.1) (4.5.0)\n",
            "Requirement already satisfied: importlib-metadata>=3.6 in /usr/local/lib/python3.9/dist-packages (from typeguard>=2.7->tensorflow-addons==0.16.1) (6.1.0)\n",
            "Requirement already satisfied: zipp>=0.5 in /usr/local/lib/python3.9/dist-packages (from importlib-metadata>=3.6->typeguard>=2.7->tensorflow-addons==0.16.1) (3.15.0)\n",
            "Installing collected packages: typeguard, tensorflow-addons\n",
            "Successfully installed tensorflow-addons-0.16.1 typeguard-3.0.2\n"
          ]
        },
        {
          "output_type": "stream",
          "name": "stderr",
          "text": [
            "/usr/local/lib/python3.9/dist-packages/tensorflow_addons/utils/ensure_tf_install.py:53: UserWarning: Tensorflow Addons supports using Python ops for all Tensorflow versions above or equal to 2.6.0 and strictly below 2.9.0 (nightly versions are not supported). \n",
            " The versions of TensorFlow you are currently using is 2.11.0 and is not supported. \n",
            "Some things might work, some things might not.\n",
            "If you were to encounter a bug, do not file an issue.\n",
            "If you want to make sure you're using a tested and supported configuration, either change the TensorFlow version or the TensorFlow Addons's version. \n",
            "You can find the compatibility matrix in TensorFlow Addon's readme:\n",
            "https://github.com/tensorflow/addons\n",
            "  warnings.warn(\n"
          ]
        }
      ]
    },
    {
      "cell_type": "markdown",
      "source": [
        "## 1.2 Load Datasets"
      ],
      "metadata": {
        "id": "vqSdd8r0fA11"
      }
    },
    {
      "cell_type": "code",
      "source": [
        "# Load Google drive\n",
        "from google.colab import drive\n",
        "drive.mount('/gdrive')\n",
        "%cd /gdrive\n",
        "\n",
        "# Define folder name where to get data from\n",
        "\n",
        "folder_prefix = \"/gdrive/MyDrive/Module6/\""
      ],
      "metadata": {
        "colab": {
          "base_uri": "https://localhost:8080/"
        },
        "id": "D17hjPMqcCUI",
        "outputId": "2568be8d-e569-4d33-d55e-8d34b2686323"
      },
      "execution_count": 3,
      "outputs": [
        {
          "output_type": "stream",
          "name": "stdout",
          "text": [
            "Mounted at /gdrive\n",
            "/gdrive\n"
          ]
        }
      ]
    },
    {
      "cell_type": "code",
      "source": [
        "# Import Physionet's MIT-BIH Arrhythmia Test Dataset (MIT) from google drive \n",
        "import pandas as pd\n",
        "\n",
        "mit_test  = pd.read_csv(folder_prefix + \"mitbih_test.csv\", header=None)\n",
        "print(\"mit_test \")\n",
        "mit_test.head()"
      ],
      "metadata": {
        "colab": {
          "base_uri": "https://localhost:8080/",
          "height": 254
        },
        "id": "6xd7RSylcKo5",
        "outputId": "8b24badd-7998-4639-b9db-2066e739cff8"
      },
      "execution_count": 4,
      "outputs": [
        {
          "output_type": "stream",
          "name": "stdout",
          "text": [
            "mit_test \n"
          ]
        },
        {
          "output_type": "execute_result",
          "data": {
            "text/plain": [
              "        0         1         2         3         4         5         6    \\\n",
              "0  1.000000  0.758264  0.111570  0.000000  0.080579  0.078512  0.066116   \n",
              "1  0.908425  0.783883  0.531136  0.362637  0.366300  0.344322  0.333333   \n",
              "2  0.730088  0.212389  0.000000  0.119469  0.101770  0.101770  0.110619   \n",
              "3  1.000000  0.910417  0.681250  0.472917  0.229167  0.068750  0.000000   \n",
              "4  0.570470  0.399329  0.238255  0.147651  0.000000  0.003356  0.040268   \n",
              "\n",
              "        7         8         9    ...  178  179  180  181  182  183  184  185  \\\n",
              "0  0.049587  0.047521  0.035124  ...  0.0  0.0  0.0  0.0  0.0  0.0  0.0  0.0   \n",
              "1  0.307692  0.296703  0.300366  ...  0.0  0.0  0.0  0.0  0.0  0.0  0.0  0.0   \n",
              "2  0.123894  0.115044  0.132743  ...  0.0  0.0  0.0  0.0  0.0  0.0  0.0  0.0   \n",
              "3  0.004167  0.014583  0.054167  ...  0.0  0.0  0.0  0.0  0.0  0.0  0.0  0.0   \n",
              "4  0.080537  0.070470  0.090604  ...  0.0  0.0  0.0  0.0  0.0  0.0  0.0  0.0   \n",
              "\n",
              "   186  187  \n",
              "0  0.0  0.0  \n",
              "1  0.0  0.0  \n",
              "2  0.0  0.0  \n",
              "3  0.0  0.0  \n",
              "4  0.0  0.0  \n",
              "\n",
              "[5 rows x 188 columns]"
            ],
            "text/html": [
              "\n",
              "  <div id=\"df-5f28905e-04c9-451b-b707-11b5900f5fe3\">\n",
              "    <div class=\"colab-df-container\">\n",
              "      <div>\n",
              "<style scoped>\n",
              "    .dataframe tbody tr th:only-of-type {\n",
              "        vertical-align: middle;\n",
              "    }\n",
              "\n",
              "    .dataframe tbody tr th {\n",
              "        vertical-align: top;\n",
              "    }\n",
              "\n",
              "    .dataframe thead th {\n",
              "        text-align: right;\n",
              "    }\n",
              "</style>\n",
              "<table border=\"1\" class=\"dataframe\">\n",
              "  <thead>\n",
              "    <tr style=\"text-align: right;\">\n",
              "      <th></th>\n",
              "      <th>0</th>\n",
              "      <th>1</th>\n",
              "      <th>2</th>\n",
              "      <th>3</th>\n",
              "      <th>4</th>\n",
              "      <th>5</th>\n",
              "      <th>6</th>\n",
              "      <th>7</th>\n",
              "      <th>8</th>\n",
              "      <th>9</th>\n",
              "      <th>...</th>\n",
              "      <th>178</th>\n",
              "      <th>179</th>\n",
              "      <th>180</th>\n",
              "      <th>181</th>\n",
              "      <th>182</th>\n",
              "      <th>183</th>\n",
              "      <th>184</th>\n",
              "      <th>185</th>\n",
              "      <th>186</th>\n",
              "      <th>187</th>\n",
              "    </tr>\n",
              "  </thead>\n",
              "  <tbody>\n",
              "    <tr>\n",
              "      <th>0</th>\n",
              "      <td>1.000000</td>\n",
              "      <td>0.758264</td>\n",
              "      <td>0.111570</td>\n",
              "      <td>0.000000</td>\n",
              "      <td>0.080579</td>\n",
              "      <td>0.078512</td>\n",
              "      <td>0.066116</td>\n",
              "      <td>0.049587</td>\n",
              "      <td>0.047521</td>\n",
              "      <td>0.035124</td>\n",
              "      <td>...</td>\n",
              "      <td>0.0</td>\n",
              "      <td>0.0</td>\n",
              "      <td>0.0</td>\n",
              "      <td>0.0</td>\n",
              "      <td>0.0</td>\n",
              "      <td>0.0</td>\n",
              "      <td>0.0</td>\n",
              "      <td>0.0</td>\n",
              "      <td>0.0</td>\n",
              "      <td>0.0</td>\n",
              "    </tr>\n",
              "    <tr>\n",
              "      <th>1</th>\n",
              "      <td>0.908425</td>\n",
              "      <td>0.783883</td>\n",
              "      <td>0.531136</td>\n",
              "      <td>0.362637</td>\n",
              "      <td>0.366300</td>\n",
              "      <td>0.344322</td>\n",
              "      <td>0.333333</td>\n",
              "      <td>0.307692</td>\n",
              "      <td>0.296703</td>\n",
              "      <td>0.300366</td>\n",
              "      <td>...</td>\n",
              "      <td>0.0</td>\n",
              "      <td>0.0</td>\n",
              "      <td>0.0</td>\n",
              "      <td>0.0</td>\n",
              "      <td>0.0</td>\n",
              "      <td>0.0</td>\n",
              "      <td>0.0</td>\n",
              "      <td>0.0</td>\n",
              "      <td>0.0</td>\n",
              "      <td>0.0</td>\n",
              "    </tr>\n",
              "    <tr>\n",
              "      <th>2</th>\n",
              "      <td>0.730088</td>\n",
              "      <td>0.212389</td>\n",
              "      <td>0.000000</td>\n",
              "      <td>0.119469</td>\n",
              "      <td>0.101770</td>\n",
              "      <td>0.101770</td>\n",
              "      <td>0.110619</td>\n",
              "      <td>0.123894</td>\n",
              "      <td>0.115044</td>\n",
              "      <td>0.132743</td>\n",
              "      <td>...</td>\n",
              "      <td>0.0</td>\n",
              "      <td>0.0</td>\n",
              "      <td>0.0</td>\n",
              "      <td>0.0</td>\n",
              "      <td>0.0</td>\n",
              "      <td>0.0</td>\n",
              "      <td>0.0</td>\n",
              "      <td>0.0</td>\n",
              "      <td>0.0</td>\n",
              "      <td>0.0</td>\n",
              "    </tr>\n",
              "    <tr>\n",
              "      <th>3</th>\n",
              "      <td>1.000000</td>\n",
              "      <td>0.910417</td>\n",
              "      <td>0.681250</td>\n",
              "      <td>0.472917</td>\n",
              "      <td>0.229167</td>\n",
              "      <td>0.068750</td>\n",
              "      <td>0.000000</td>\n",
              "      <td>0.004167</td>\n",
              "      <td>0.014583</td>\n",
              "      <td>0.054167</td>\n",
              "      <td>...</td>\n",
              "      <td>0.0</td>\n",
              "      <td>0.0</td>\n",
              "      <td>0.0</td>\n",
              "      <td>0.0</td>\n",
              "      <td>0.0</td>\n",
              "      <td>0.0</td>\n",
              "      <td>0.0</td>\n",
              "      <td>0.0</td>\n",
              "      <td>0.0</td>\n",
              "      <td>0.0</td>\n",
              "    </tr>\n",
              "    <tr>\n",
              "      <th>4</th>\n",
              "      <td>0.570470</td>\n",
              "      <td>0.399329</td>\n",
              "      <td>0.238255</td>\n",
              "      <td>0.147651</td>\n",
              "      <td>0.000000</td>\n",
              "      <td>0.003356</td>\n",
              "      <td>0.040268</td>\n",
              "      <td>0.080537</td>\n",
              "      <td>0.070470</td>\n",
              "      <td>0.090604</td>\n",
              "      <td>...</td>\n",
              "      <td>0.0</td>\n",
              "      <td>0.0</td>\n",
              "      <td>0.0</td>\n",
              "      <td>0.0</td>\n",
              "      <td>0.0</td>\n",
              "      <td>0.0</td>\n",
              "      <td>0.0</td>\n",
              "      <td>0.0</td>\n",
              "      <td>0.0</td>\n",
              "      <td>0.0</td>\n",
              "    </tr>\n",
              "  </tbody>\n",
              "</table>\n",
              "<p>5 rows × 188 columns</p>\n",
              "</div>\n",
              "      <button class=\"colab-df-convert\" onclick=\"convertToInteractive('df-5f28905e-04c9-451b-b707-11b5900f5fe3')\"\n",
              "              title=\"Convert this dataframe to an interactive table.\"\n",
              "              style=\"display:none;\">\n",
              "        \n",
              "  <svg xmlns=\"http://www.w3.org/2000/svg\" height=\"24px\"viewBox=\"0 0 24 24\"\n",
              "       width=\"24px\">\n",
              "    <path d=\"M0 0h24v24H0V0z\" fill=\"none\"/>\n",
              "    <path d=\"M18.56 5.44l.94 2.06.94-2.06 2.06-.94-2.06-.94-.94-2.06-.94 2.06-2.06.94zm-11 1L8.5 8.5l.94-2.06 2.06-.94-2.06-.94L8.5 2.5l-.94 2.06-2.06.94zm10 10l.94 2.06.94-2.06 2.06-.94-2.06-.94-.94-2.06-.94 2.06-2.06.94z\"/><path d=\"M17.41 7.96l-1.37-1.37c-.4-.4-.92-.59-1.43-.59-.52 0-1.04.2-1.43.59L10.3 9.45l-7.72 7.72c-.78.78-.78 2.05 0 2.83L4 21.41c.39.39.9.59 1.41.59.51 0 1.02-.2 1.41-.59l7.78-7.78 2.81-2.81c.8-.78.8-2.07 0-2.86zM5.41 20L4 18.59l7.72-7.72 1.47 1.35L5.41 20z\"/>\n",
              "  </svg>\n",
              "      </button>\n",
              "      \n",
              "  <style>\n",
              "    .colab-df-container {\n",
              "      display:flex;\n",
              "      flex-wrap:wrap;\n",
              "      gap: 12px;\n",
              "    }\n",
              "\n",
              "    .colab-df-convert {\n",
              "      background-color: #E8F0FE;\n",
              "      border: none;\n",
              "      border-radius: 50%;\n",
              "      cursor: pointer;\n",
              "      display: none;\n",
              "      fill: #1967D2;\n",
              "      height: 32px;\n",
              "      padding: 0 0 0 0;\n",
              "      width: 32px;\n",
              "    }\n",
              "\n",
              "    .colab-df-convert:hover {\n",
              "      background-color: #E2EBFA;\n",
              "      box-shadow: 0px 1px 2px rgba(60, 64, 67, 0.3), 0px 1px 3px 1px rgba(60, 64, 67, 0.15);\n",
              "      fill: #174EA6;\n",
              "    }\n",
              "\n",
              "    [theme=dark] .colab-df-convert {\n",
              "      background-color: #3B4455;\n",
              "      fill: #D2E3FC;\n",
              "    }\n",
              "\n",
              "    [theme=dark] .colab-df-convert:hover {\n",
              "      background-color: #434B5C;\n",
              "      box-shadow: 0px 1px 3px 1px rgba(0, 0, 0, 0.15);\n",
              "      filter: drop-shadow(0px 1px 2px rgba(0, 0, 0, 0.3));\n",
              "      fill: #FFFFFF;\n",
              "    }\n",
              "  </style>\n",
              "\n",
              "      <script>\n",
              "        const buttonEl =\n",
              "          document.querySelector('#df-5f28905e-04c9-451b-b707-11b5900f5fe3 button.colab-df-convert');\n",
              "        buttonEl.style.display =\n",
              "          google.colab.kernel.accessAllowed ? 'block' : 'none';\n",
              "\n",
              "        async function convertToInteractive(key) {\n",
              "          const element = document.querySelector('#df-5f28905e-04c9-451b-b707-11b5900f5fe3');\n",
              "          const dataTable =\n",
              "            await google.colab.kernel.invokeFunction('convertToInteractive',\n",
              "                                                     [key], {});\n",
              "          if (!dataTable) return;\n",
              "\n",
              "          const docLinkHtml = 'Like what you see? Visit the ' +\n",
              "            '<a target=\"_blank\" href=https://colab.research.google.com/notebooks/data_table.ipynb>data table notebook</a>'\n",
              "            + ' to learn more about interactive tables.';\n",
              "          element.innerHTML = '';\n",
              "          dataTable['output_type'] = 'display_data';\n",
              "          await google.colab.output.renderOutput(dataTable, element);\n",
              "          const docLink = document.createElement('div');\n",
              "          docLink.innerHTML = docLinkHtml;\n",
              "          element.appendChild(docLink);\n",
              "        }\n",
              "      </script>\n",
              "    </div>\n",
              "  </div>\n",
              "  "
            ]
          },
          "metadata": {},
          "execution_count": 4
        }
      ]
    },
    {
      "cell_type": "code",
      "source": [
        "# Import Physionet's MIT-BIH Arrhythmia Train Dataset (MIT) from google drive \n",
        "import pandas as pd\n",
        "\n",
        "mit_train  = pd.read_csv(folder_prefix + \"mitbih_train.csv\", header=None)\n",
        "print(\"mit_train\")\n",
        "mit_train.head()"
      ],
      "metadata": {
        "colab": {
          "base_uri": "https://localhost:8080/",
          "height": 254
        },
        "id": "NH46qzrXdgyx",
        "outputId": "83fae048-be5d-4b12-d992-aa5a8eb195aa"
      },
      "execution_count": 5,
      "outputs": [
        {
          "output_type": "stream",
          "name": "stdout",
          "text": [
            "mit_train\n"
          ]
        },
        {
          "output_type": "execute_result",
          "data": {
            "text/plain": [
              "        0         1         2         3         4         5         6    \\\n",
              "0  0.977941  0.926471  0.681373  0.245098  0.154412  0.191176  0.151961   \n",
              "1  0.960114  0.863248  0.461538  0.196581  0.094017  0.125356  0.099715   \n",
              "2  1.000000  0.659459  0.186486  0.070270  0.070270  0.059459  0.056757   \n",
              "3  0.925414  0.665746  0.541436  0.276243  0.196133  0.077348  0.071823   \n",
              "4  0.967136  1.000000  0.830986  0.586854  0.356808  0.248826  0.145540   \n",
              "\n",
              "        7         8         9    ...  178  179  180  181  182  183  184  185  \\\n",
              "0  0.085784  0.058824  0.049020  ...  0.0  0.0  0.0  0.0  0.0  0.0  0.0  0.0   \n",
              "1  0.088319  0.074074  0.082621  ...  0.0  0.0  0.0  0.0  0.0  0.0  0.0  0.0   \n",
              "2  0.043243  0.054054  0.045946  ...  0.0  0.0  0.0  0.0  0.0  0.0  0.0  0.0   \n",
              "3  0.060773  0.066298  0.058011  ...  0.0  0.0  0.0  0.0  0.0  0.0  0.0  0.0   \n",
              "4  0.089202  0.117371  0.150235  ...  0.0  0.0  0.0  0.0  0.0  0.0  0.0  0.0   \n",
              "\n",
              "   186  187  \n",
              "0  0.0  0.0  \n",
              "1  0.0  0.0  \n",
              "2  0.0  0.0  \n",
              "3  0.0  0.0  \n",
              "4  0.0  0.0  \n",
              "\n",
              "[5 rows x 188 columns]"
            ],
            "text/html": [
              "\n",
              "  <div id=\"df-b8db7ccd-0902-496f-8cb5-b7918282d292\">\n",
              "    <div class=\"colab-df-container\">\n",
              "      <div>\n",
              "<style scoped>\n",
              "    .dataframe tbody tr th:only-of-type {\n",
              "        vertical-align: middle;\n",
              "    }\n",
              "\n",
              "    .dataframe tbody tr th {\n",
              "        vertical-align: top;\n",
              "    }\n",
              "\n",
              "    .dataframe thead th {\n",
              "        text-align: right;\n",
              "    }\n",
              "</style>\n",
              "<table border=\"1\" class=\"dataframe\">\n",
              "  <thead>\n",
              "    <tr style=\"text-align: right;\">\n",
              "      <th></th>\n",
              "      <th>0</th>\n",
              "      <th>1</th>\n",
              "      <th>2</th>\n",
              "      <th>3</th>\n",
              "      <th>4</th>\n",
              "      <th>5</th>\n",
              "      <th>6</th>\n",
              "      <th>7</th>\n",
              "      <th>8</th>\n",
              "      <th>9</th>\n",
              "      <th>...</th>\n",
              "      <th>178</th>\n",
              "      <th>179</th>\n",
              "      <th>180</th>\n",
              "      <th>181</th>\n",
              "      <th>182</th>\n",
              "      <th>183</th>\n",
              "      <th>184</th>\n",
              "      <th>185</th>\n",
              "      <th>186</th>\n",
              "      <th>187</th>\n",
              "    </tr>\n",
              "  </thead>\n",
              "  <tbody>\n",
              "    <tr>\n",
              "      <th>0</th>\n",
              "      <td>0.977941</td>\n",
              "      <td>0.926471</td>\n",
              "      <td>0.681373</td>\n",
              "      <td>0.245098</td>\n",
              "      <td>0.154412</td>\n",
              "      <td>0.191176</td>\n",
              "      <td>0.151961</td>\n",
              "      <td>0.085784</td>\n",
              "      <td>0.058824</td>\n",
              "      <td>0.049020</td>\n",
              "      <td>...</td>\n",
              "      <td>0.0</td>\n",
              "      <td>0.0</td>\n",
              "      <td>0.0</td>\n",
              "      <td>0.0</td>\n",
              "      <td>0.0</td>\n",
              "      <td>0.0</td>\n",
              "      <td>0.0</td>\n",
              "      <td>0.0</td>\n",
              "      <td>0.0</td>\n",
              "      <td>0.0</td>\n",
              "    </tr>\n",
              "    <tr>\n",
              "      <th>1</th>\n",
              "      <td>0.960114</td>\n",
              "      <td>0.863248</td>\n",
              "      <td>0.461538</td>\n",
              "      <td>0.196581</td>\n",
              "      <td>0.094017</td>\n",
              "      <td>0.125356</td>\n",
              "      <td>0.099715</td>\n",
              "      <td>0.088319</td>\n",
              "      <td>0.074074</td>\n",
              "      <td>0.082621</td>\n",
              "      <td>...</td>\n",
              "      <td>0.0</td>\n",
              "      <td>0.0</td>\n",
              "      <td>0.0</td>\n",
              "      <td>0.0</td>\n",
              "      <td>0.0</td>\n",
              "      <td>0.0</td>\n",
              "      <td>0.0</td>\n",
              "      <td>0.0</td>\n",
              "      <td>0.0</td>\n",
              "      <td>0.0</td>\n",
              "    </tr>\n",
              "    <tr>\n",
              "      <th>2</th>\n",
              "      <td>1.000000</td>\n",
              "      <td>0.659459</td>\n",
              "      <td>0.186486</td>\n",
              "      <td>0.070270</td>\n",
              "      <td>0.070270</td>\n",
              "      <td>0.059459</td>\n",
              "      <td>0.056757</td>\n",
              "      <td>0.043243</td>\n",
              "      <td>0.054054</td>\n",
              "      <td>0.045946</td>\n",
              "      <td>...</td>\n",
              "      <td>0.0</td>\n",
              "      <td>0.0</td>\n",
              "      <td>0.0</td>\n",
              "      <td>0.0</td>\n",
              "      <td>0.0</td>\n",
              "      <td>0.0</td>\n",
              "      <td>0.0</td>\n",
              "      <td>0.0</td>\n",
              "      <td>0.0</td>\n",
              "      <td>0.0</td>\n",
              "    </tr>\n",
              "    <tr>\n",
              "      <th>3</th>\n",
              "      <td>0.925414</td>\n",
              "      <td>0.665746</td>\n",
              "      <td>0.541436</td>\n",
              "      <td>0.276243</td>\n",
              "      <td>0.196133</td>\n",
              "      <td>0.077348</td>\n",
              "      <td>0.071823</td>\n",
              "      <td>0.060773</td>\n",
              "      <td>0.066298</td>\n",
              "      <td>0.058011</td>\n",
              "      <td>...</td>\n",
              "      <td>0.0</td>\n",
              "      <td>0.0</td>\n",
              "      <td>0.0</td>\n",
              "      <td>0.0</td>\n",
              "      <td>0.0</td>\n",
              "      <td>0.0</td>\n",
              "      <td>0.0</td>\n",
              "      <td>0.0</td>\n",
              "      <td>0.0</td>\n",
              "      <td>0.0</td>\n",
              "    </tr>\n",
              "    <tr>\n",
              "      <th>4</th>\n",
              "      <td>0.967136</td>\n",
              "      <td>1.000000</td>\n",
              "      <td>0.830986</td>\n",
              "      <td>0.586854</td>\n",
              "      <td>0.356808</td>\n",
              "      <td>0.248826</td>\n",
              "      <td>0.145540</td>\n",
              "      <td>0.089202</td>\n",
              "      <td>0.117371</td>\n",
              "      <td>0.150235</td>\n",
              "      <td>...</td>\n",
              "      <td>0.0</td>\n",
              "      <td>0.0</td>\n",
              "      <td>0.0</td>\n",
              "      <td>0.0</td>\n",
              "      <td>0.0</td>\n",
              "      <td>0.0</td>\n",
              "      <td>0.0</td>\n",
              "      <td>0.0</td>\n",
              "      <td>0.0</td>\n",
              "      <td>0.0</td>\n",
              "    </tr>\n",
              "  </tbody>\n",
              "</table>\n",
              "<p>5 rows × 188 columns</p>\n",
              "</div>\n",
              "      <button class=\"colab-df-convert\" onclick=\"convertToInteractive('df-b8db7ccd-0902-496f-8cb5-b7918282d292')\"\n",
              "              title=\"Convert this dataframe to an interactive table.\"\n",
              "              style=\"display:none;\">\n",
              "        \n",
              "  <svg xmlns=\"http://www.w3.org/2000/svg\" height=\"24px\"viewBox=\"0 0 24 24\"\n",
              "       width=\"24px\">\n",
              "    <path d=\"M0 0h24v24H0V0z\" fill=\"none\"/>\n",
              "    <path d=\"M18.56 5.44l.94 2.06.94-2.06 2.06-.94-2.06-.94-.94-2.06-.94 2.06-2.06.94zm-11 1L8.5 8.5l.94-2.06 2.06-.94-2.06-.94L8.5 2.5l-.94 2.06-2.06.94zm10 10l.94 2.06.94-2.06 2.06-.94-2.06-.94-.94-2.06-.94 2.06-2.06.94z\"/><path d=\"M17.41 7.96l-1.37-1.37c-.4-.4-.92-.59-1.43-.59-.52 0-1.04.2-1.43.59L10.3 9.45l-7.72 7.72c-.78.78-.78 2.05 0 2.83L4 21.41c.39.39.9.59 1.41.59.51 0 1.02-.2 1.41-.59l7.78-7.78 2.81-2.81c.8-.78.8-2.07 0-2.86zM5.41 20L4 18.59l7.72-7.72 1.47 1.35L5.41 20z\"/>\n",
              "  </svg>\n",
              "      </button>\n",
              "      \n",
              "  <style>\n",
              "    .colab-df-container {\n",
              "      display:flex;\n",
              "      flex-wrap:wrap;\n",
              "      gap: 12px;\n",
              "    }\n",
              "\n",
              "    .colab-df-convert {\n",
              "      background-color: #E8F0FE;\n",
              "      border: none;\n",
              "      border-radius: 50%;\n",
              "      cursor: pointer;\n",
              "      display: none;\n",
              "      fill: #1967D2;\n",
              "      height: 32px;\n",
              "      padding: 0 0 0 0;\n",
              "      width: 32px;\n",
              "    }\n",
              "\n",
              "    .colab-df-convert:hover {\n",
              "      background-color: #E2EBFA;\n",
              "      box-shadow: 0px 1px 2px rgba(60, 64, 67, 0.3), 0px 1px 3px 1px rgba(60, 64, 67, 0.15);\n",
              "      fill: #174EA6;\n",
              "    }\n",
              "\n",
              "    [theme=dark] .colab-df-convert {\n",
              "      background-color: #3B4455;\n",
              "      fill: #D2E3FC;\n",
              "    }\n",
              "\n",
              "    [theme=dark] .colab-df-convert:hover {\n",
              "      background-color: #434B5C;\n",
              "      box-shadow: 0px 1px 3px 1px rgba(0, 0, 0, 0.15);\n",
              "      filter: drop-shadow(0px 1px 2px rgba(0, 0, 0, 0.3));\n",
              "      fill: #FFFFFF;\n",
              "    }\n",
              "  </style>\n",
              "\n",
              "      <script>\n",
              "        const buttonEl =\n",
              "          document.querySelector('#df-b8db7ccd-0902-496f-8cb5-b7918282d292 button.colab-df-convert');\n",
              "        buttonEl.style.display =\n",
              "          google.colab.kernel.accessAllowed ? 'block' : 'none';\n",
              "\n",
              "        async function convertToInteractive(key) {\n",
              "          const element = document.querySelector('#df-b8db7ccd-0902-496f-8cb5-b7918282d292');\n",
              "          const dataTable =\n",
              "            await google.colab.kernel.invokeFunction('convertToInteractive',\n",
              "                                                     [key], {});\n",
              "          if (!dataTable) return;\n",
              "\n",
              "          const docLinkHtml = 'Like what you see? Visit the ' +\n",
              "            '<a target=\"_blank\" href=https://colab.research.google.com/notebooks/data_table.ipynb>data table notebook</a>'\n",
              "            + ' to learn more about interactive tables.';\n",
              "          element.innerHTML = '';\n",
              "          dataTable['output_type'] = 'display_data';\n",
              "          await google.colab.output.renderOutput(dataTable, element);\n",
              "          const docLink = document.createElement('div');\n",
              "          docLink.innerHTML = docLinkHtml;\n",
              "          element.appendChild(docLink);\n",
              "        }\n",
              "      </script>\n",
              "    </div>\n",
              "  </div>\n",
              "  "
            ]
          },
          "metadata": {},
          "execution_count": 5
        }
      ]
    },
    {
      "cell_type": "markdown",
      "source": [
        "## 1.3 Data Cleaning"
      ],
      "metadata": {
        "id": "JhDrRYJo1Edz"
      }
    },
    {
      "cell_type": "code",
      "source": [
        "# Rename column 187 to 'Class' in all four datasets, as its target variable for later\n",
        "mit_test.rename(columns={187:\"Class\"}, inplace=True)\n",
        "mit_train.rename(columns={187:\"Class\"}, inplace=True)"
      ],
      "metadata": {
        "id": "1qHLrreieZcO"
      },
      "execution_count": 6,
      "outputs": []
    },
    {
      "cell_type": "code",
      "source": [
        "# Printthe class distribution for each dataset\n",
        "print (\"MIT Train classes: /n\", mit_train[\"Class\"].value_counts())\n",
        "print (\"/nMIT Test classes: /n\", mit_test[\"Class\"].value_counts())"
      ],
      "metadata": {
        "colab": {
          "base_uri": "https://localhost:8080/"
        },
        "id": "AwZ03OuxedCO",
        "outputId": "80e4890f-8e16-4f41-dd41-93c91e4a7e33"
      },
      "execution_count": 7,
      "outputs": [
        {
          "output_type": "stream",
          "name": "stdout",
          "text": [
            "MIT Train classes: /n 0.0    72471\n",
            "4.0     6431\n",
            "2.0     5788\n",
            "1.0     2223\n",
            "3.0      641\n",
            "Name: Class, dtype: int64\n",
            "/nMIT Test classes: /n 0.0    18118\n",
            "4.0     1608\n",
            "2.0     1448\n",
            "1.0      556\n",
            "3.0      162\n",
            "Name: Class, dtype: int64\n"
          ]
        }
      ]
    },
    {
      "cell_type": "markdown",
      "source": [
        "We understand from the output the number of occurrences of each class label in the \"Class\" column for each dataset. This information is useful to understand the distribution of classes."
      ],
      "metadata": {
        "id": "zF6ZZAng1b78"
      }
    },
    {
      "cell_type": "markdown",
      "source": [
        "\n",
        "\n",
        "*   **Normal Beat** - This refers to a normal, healthy heartbeat that occurs at the regular rate and rhythm.\n",
        "*   **Artial Premature** - this label refers to an abnormal heartbeat that originates in the atria (the upper chambers of the heart) and occurs earlier than expected.\n",
        "*   **Premature ventricular contraction** - this label refers to an abnormal heartbeat that originates in the ventricles (the lower chambers of the heart) and occurs earlier than expected.\n",
        "*   **Fusion of ventricular and normal** - this label refers to an abnormal heartbeat that results from the fusion of a normal heartbeat with a premature ventricular contraction. \n",
        "*   **Unclassifiable Beat**' This refers to a heartbeat that cannot be classified into any of the other categories due to its unusual or atypical features.\n",
        "\n"
      ],
      "metadata": {
        "id": "y1JQERjA-dZm"
      }
    },
    {
      "cell_type": "code",
      "source": [
        "# Setting Dictionary to define the type of Heartbeat for both datasets\n",
        "MIT_Outcome  = {0. : 'Normal Beat',\n",
        "               1. : 'Artial premature',\n",
        "               2. : 'Premature ventricular contraction',\n",
        "               3. : 'Fusion of ventricular and normal beat',\n",
        "               4. : 'Unclassifiable Beat'}"
      ],
      "metadata": {
        "id": "bxNXfBkaeg1H"
      },
      "execution_count": 8,
      "outputs": []
    },
    {
      "cell_type": "markdown",
      "source": [
        "By identifying and classifying these different types of heartbeats, the MIT-BIH Arrhythmia Database set can be used to develop and evaluate algorithms for automatic detection and diagnosis of arrhythmias, which can help improve the diagnosis and treatment of heart disease."
      ],
      "metadata": {
        "id": "Mun81N63R18a"
      }
    },
    {
      "cell_type": "markdown",
      "source": [
        "## 2. Explore the Data"
      ],
      "metadata": {
        "id": "9zVqL9Psexyj"
      }
    },
    {
      "cell_type": "code",
      "source": [
        "# Plotting 10 random samples from the MIT training dataset with their classification\n",
        "plt.figure(figsize=(25,10))\n",
        "np_count = np.linspace(0,186,187)\n",
        "np_time = np.tile(np_count,(10,1))\n",
        "rnd = np.random.randint(0,mit_train.shape[0],size=(10,))\n",
        "\n",
        "\n",
        "for i in range(np_time.shape[0]):\n",
        "    ax = plt.subplot(2,5,i+1)\n",
        "    ax.plot(mit_train.iloc[rnd[i],np_time[i,:]])\n",
        "    ax.set_title(MIT_Outcome[mit_train.loc[rnd[i],'Class']])\n",
        "\n",
        "plt.show()"
      ],
      "metadata": {
        "colab": {
          "base_uri": "https://localhost:8080/",
          "height": 607
        },
        "id": "TlJnmBvWej_F",
        "outputId": "30bd7e78-a5f5-4a54-9e56-d1cd205021a3"
      },
      "execution_count": 12,
      "outputs": [
        {
          "output_type": "display_data",
          "data": {
            "text/plain": [
              "<Figure size 1800x720 with 10 Axes>"
            ],
            "image/png": "[encoded data removed]"
          },
          "metadata": {
            "needs_background": "light"
          }
        }
      ]
    },
    {
      "cell_type": "markdown",
      "source": [
        "## 3. Deep Leaning Model for MIT-BIH Arrhythmia Dataset"
      ],
      "metadata": {
        "id": "u7iJEm_EmjFv"
      }
    },
    {
      "cell_type": "markdown",
      "source": [
        "### 3.1. Simple Neural Network with dense layers"
      ],
      "metadata": {
        "id": "uNnOSk2wA3df"
      }
    },
    {
      "cell_type": "markdown",
      "source": [
        "We will build a neural network. The model is a fully NN that consists of three layers of densely connected neurons, followed by a softmax activation function on the output layer."
      ],
      "metadata": {
        "id": "r5YGD6P251KO"
      }
    },
    {
      "cell_type": "markdown",
      "source": [
        "#### 3.1.1 Prepare data"
      ],
      "metadata": {
        "id": "Xrp6VqcyJvMe"
      }
    },
    {
      "cell_type": "code",
      "source": [
        "# Prepare dataset \n",
        "X_train = mit_train.values[:, :-1]\n",
        "y_train = mit_train.values[:, -1].astype(int)\n",
        "\n",
        "X_test  = mit_test.values[:, :-1]\n",
        "y_test  = mit_test.values[:, -1].astype(int)\n",
        "\n",
        "# Print to display the dimensions of the feature arrays\n",
        "print(X_train.shape)\n",
        "print(X_test.shape)"
      ],
      "metadata": {
        "colab": {
          "base_uri": "https://localhost:8080/"
        },
        "id": "cZsBn6DrmkX7",
        "outputId": "a3ac08e9-8a0e-4a6d-8a1f-3aebafec30cc"
      },
      "execution_count": 13,
      "outputs": [
        {
          "output_type": "stream",
          "name": "stdout",
          "text": [
            "(87554, 187)\n",
            "(21892, 187)\n"
          ]
        }
      ]
    },
    {
      "cell_type": "code",
      "source": [
        "from tensorflow.keras import utils # Function used to convert integer-encoded categorical data into one-hot encoded format\n",
        "\n",
        "# Convert the integer-encoded labels to one-hot encoded format\n",
        "y_train = utils.to_categorical(y_train)\n",
        "y_test  = utils.to_categorical(y_test)\n",
        "\n",
        "print(y_train.shape)\n",
        "print(y_test.shape)"
      ],
      "metadata": {
        "colab": {
          "base_uri": "https://localhost:8080/"
        },
        "id": "6J9MldH_nDId",
        "outputId": "fee56ea2-63a2-4422-856a-0c10202e18be"
      },
      "execution_count": 14,
      "outputs": [
        {
          "output_type": "stream",
          "name": "stdout",
          "text": [
            "(87554, 5)\n",
            "(21892, 5)\n"
          ]
        }
      ]
    },
    {
      "cell_type": "markdown",
      "source": [
        "#### 3.1.2 Build the model"
      ],
      "metadata": {
        "id": "dV3W4odIJtGs"
      }
    },
    {
      "cell_type": "code",
      "source": [
        "# Function to build Neural Network of three layers\n",
        "from tensorflow.keras import models, layers\n",
        "\n",
        "num_classes= 5 # number of neurons equal to num_classes for output\n",
        "\n",
        "model = models.Sequential() # sequential model object, which is a linear stack of layers that can be added one by one\n",
        "\n",
        "model.add(layers.InputLayer(input_shape=(187,))) # input layer with 187 neurons, which is the length of the ECG signal\n",
        "model.add(layers.Dense(128, activation=\"relu\")) # adding dense layer to the model with 128 neurons and a ReLU activation function\n",
        "model.add(layers.Dense(32,  activation=\"relu\")) # adding another dense layer to the model with 32 neurons and a ReLU activation function\n",
        "model.add(layers.Dense(num_classes, activation=\"softmax\")) # output layer with softmax activation function, which outputs a probability distribution over the classes, which can be used to make predictions\n",
        "\n",
        "model.summary()"
      ],
      "metadata": {
        "colab": {
          "base_uri": "https://localhost:8080/"
        },
        "id": "9aERBx-LnK_w",
        "outputId": "dd91894f-5834-4fcb-c232-3941671d855e"
      },
      "execution_count": 15,
      "outputs": [
        {
          "output_type": "stream",
          "name": "stdout",
          "text": [
            "Model: \"sequential\"\n",
            "_________________________________________________________________\n",
            " Layer (type)                Output Shape              Param #   \n",
            "=================================================================\n",
            " dense (Dense)               (None, 128)               24064     \n",
            "                                                                 \n",
            " dense_1 (Dense)             (None, 32)                4128      \n",
            "                                                                 \n",
            " dense_2 (Dense)             (None, 5)                 165       \n",
            "                                                                 \n",
            "=================================================================\n",
            "Total params: 28,357\n",
            "Trainable params: 28,357\n",
            "Non-trainable params: 0\n",
            "_________________________________________________________________\n"
          ]
        }
      ]
    },
    {
      "cell_type": "code",
      "source": [
        "# Compile Model\n",
        "model.compile(loss='categorical_crossentropy', optimizer='adam', metrics=['accuracy'])"
      ],
      "metadata": {
        "id": "GXy3-JupnPYg"
      },
      "execution_count": 16,
      "outputs": []
    },
    {
      "cell_type": "markdown",
      "source": [
        "The categorical cross-entropy loss function is commonly used for multi-class classification problems, where the goal is to predict a categorical label from a set of possible classes. The Adam optimizer is a popular choice for optimizing neural networks."
      ],
      "metadata": {
        "id": "6a6AbduksHQa"
      }
    },
    {
      "cell_type": "code",
      "source": [
        "batch_size = 100\n",
        "num_epochs = 20\n",
        "\n",
        "# Train Model\n",
        "hist = model.fit(X_train, y_train, epochs=num_epochs, batch_size=batch_size, validation_data=(X_test, y_test))"
      ],
      "metadata": {
        "colab": {
          "base_uri": "https://localhost:8080/"
        },
        "id": "6i4as8cmnUtZ",
        "outputId": "581e8e4c-85f8-419d-83e7-ed67de7e4c45"
      },
      "execution_count": 17,
      "outputs": [
        {
          "output_type": "stream",
          "name": "stdout",
          "text": [
            "Epoch 1/20\n",
            "876/876 [==============================] - 4s 4ms/step - loss: 0.3279 - accuracy: 0.9104 - val_loss: 0.1980 - val_accuracy: 0.9447\n",
            "Epoch 2/20\n",
            "876/876 [==============================] - 4s 5ms/step - loss: 0.1697 - accuracy: 0.9534 - val_loss: 0.1574 - val_accuracy: 0.9575\n",
            "Epoch 3/20\n",
            "876/876 [==============================] - 4s 4ms/step - loss: 0.1411 - accuracy: 0.9614 - val_loss: 0.1365 - val_accuracy: 0.9635\n",
            "Epoch 4/20\n",
            "876/876 [==============================] - 3s 3ms/step - loss: 0.1244 - accuracy: 0.9654 - val_loss: 0.1301 - val_accuracy: 0.9646\n",
            "Epoch 5/20\n",
            "876/876 [==============================] - 3s 3ms/step - loss: 0.1134 - accuracy: 0.9690 - val_loss: 0.1183 - val_accuracy: 0.9671\n",
            "Epoch 6/20\n",
            "876/876 [==============================] - 4s 4ms/step - loss: 0.1043 - accuracy: 0.9709 - val_loss: 0.1131 - val_accuracy: 0.9689\n",
            "Epoch 7/20\n",
            "876/876 [==============================] - 5s 5ms/step - loss: 0.0980 - accuracy: 0.9726 - val_loss: 0.1097 - val_accuracy: 0.9701\n",
            "Epoch 8/20\n",
            "876/876 [==============================] - 3s 4ms/step - loss: 0.0928 - accuracy: 0.9734 - val_loss: 0.1231 - val_accuracy: 0.9681\n",
            "Epoch 9/20\n",
            "876/876 [==============================] - 3s 4ms/step - loss: 0.0868 - accuracy: 0.9752 - val_loss: 0.1021 - val_accuracy: 0.9719\n",
            "Epoch 10/20\n",
            "876/876 [==============================] - 4s 5ms/step - loss: 0.0823 - accuracy: 0.9764 - val_loss: 0.1028 - val_accuracy: 0.9736\n",
            "Epoch 11/20\n",
            "876/876 [==============================] - 4s 4ms/step - loss: 0.0795 - accuracy: 0.9769 - val_loss: 0.0971 - val_accuracy: 0.9749\n",
            "Epoch 12/20\n",
            "876/876 [==============================] - 3s 4ms/step - loss: 0.0751 - accuracy: 0.9782 - val_loss: 0.1075 - val_accuracy: 0.9718\n",
            "Epoch 13/20\n",
            "876/876 [==============================] - 3s 4ms/step - loss: 0.0725 - accuracy: 0.9786 - val_loss: 0.0978 - val_accuracy: 0.9745\n",
            "Epoch 14/20\n",
            "876/876 [==============================] - 4s 5ms/step - loss: 0.0702 - accuracy: 0.9789 - val_loss: 0.0965 - val_accuracy: 0.9757\n",
            "Epoch 15/20\n",
            "876/876 [==============================] - 3s 4ms/step - loss: 0.0677 - accuracy: 0.9798 - val_loss: 0.0958 - val_accuracy: 0.9754\n",
            "Epoch 16/20\n",
            "876/876 [==============================] - 3s 3ms/step - loss: 0.0651 - accuracy: 0.9805 - val_loss: 0.0904 - val_accuracy: 0.9757\n",
            "Epoch 17/20\n",
            "876/876 [==============================] - 3s 3ms/step - loss: 0.0630 - accuracy: 0.9808 - val_loss: 0.0951 - val_accuracy: 0.9757\n",
            "Epoch 18/20\n",
            "876/876 [==============================] - 3s 4ms/step - loss: 0.0615 - accuracy: 0.9815 - val_loss: 0.0897 - val_accuracy: 0.9776\n",
            "Epoch 19/20\n",
            "876/876 [==============================] - 4s 5ms/step - loss: 0.0595 - accuracy: 0.9821 - val_loss: 0.0934 - val_accuracy: 0.9754\n",
            "Epoch 20/20\n",
            "876/876 [==============================] - 3s 3ms/step - loss: 0.0585 - accuracy: 0.9823 - val_loss: 0.0900 - val_accuracy: 0.9772\n"
          ]
        }
      ]
    },
    {
      "cell_type": "markdown",
      "source": [
        "The output shows that the model starts with a training loss of 0.0787 and a training accuracy of 0.9776 for the first epoch, and continues to improve in each subsequent epoch. After 20 epochs, the model achieves a training loss of 0.0454 and a training accuracy of 0.9857. The validation loss and accuracy  displayed for each epoch, show that the model generalizes well to unseen data."
      ],
      "metadata": {
        "id": "9Lzfz4Pw8reC"
      }
    },
    {
      "cell_type": "code",
      "source": [
        "labels = [\"Normal Beat\",\n",
        "          \"Artial Premature\",\n",
        "          \"Premature ventricular contraction\",\n",
        "          \"Fusion of ventricular and normal\",\n",
        "          \"Fusion of paced and normal\"]"
      ],
      "metadata": {
        "id": "wW3z7FXwpyrF"
      },
      "execution_count": 18,
      "outputs": []
    },
    {
      "cell_type": "code",
      "source": [
        "# Test Model\n",
        "predY = model.predict(X_test)\n",
        "y_pred = np.argmax(predY,axis=1)\n",
        "y_actual = np.argmax(y_test,axis=1)\n",
        "cm = confusion_matrix(y_actual, y_pred) # confusion matrix summarizes the number of true positives, false positives, true negatives, and false negatives for each class\n",
        "print(cm)"
      ],
      "metadata": {
        "colab": {
          "base_uri": "https://localhost:8080/"
        },
        "id": "jizBBj31p9Yf",
        "outputId": "7858298a-abfe-4679-91af-77832cdecf91"
      },
      "execution_count": 19,
      "outputs": [
        {
          "output_type": "stream",
          "name": "stdout",
          "text": [
            "685/685 [==============================] - 1s 1ms/step\n",
            "[[17997    56    44    12     9]\n",
            " [  155   390    10     0     1]\n",
            " [   65     3  1347    28     5]\n",
            " [   31     0    13   118     0]\n",
            " [   50     0    17     0  1541]]\n"
          ]
        }
      ]
    },
    {
      "cell_type": "markdown",
      "source": [
        "#### 3.1.3 Evaluation of the model"
      ],
      "metadata": {
        "id": "TZe4VQ3yJ3hq"
      }
    },
    {
      "cell_type": "code",
      "source": [
        "print(classification_report(y_actual, y_pred, target_names=labels))"
      ],
      "metadata": {
        "colab": {
          "base_uri": "https://localhost:8080/"
        },
        "id": "1XBilpLyqA3C",
        "outputId": "1097c8b6-95e3-431b-9f4d-ac2d36a99369"
      },
      "execution_count": 20,
      "outputs": [
        {
          "output_type": "stream",
          "name": "stdout",
          "text": [
            "                                   precision    recall  f1-score   support\n",
            "\n",
            "                      Normal Beat       0.98      0.99      0.99     18118\n",
            "                 Artial Premature       0.87      0.70      0.78       556\n",
            "Premature ventricular contraction       0.94      0.93      0.94      1448\n",
            " Fusion of ventricular and normal       0.75      0.73      0.74       162\n",
            "       Fusion of paced and normal       0.99      0.96      0.97      1608\n",
            "\n",
            "                         accuracy                           0.98     21892\n",
            "                        macro avg       0.91      0.86      0.88     21892\n",
            "                     weighted avg       0.98      0.98      0.98     21892\n",
            "\n"
          ]
        }
      ]
    },
    {
      "cell_type": "markdown",
      "source": [
        "From the output, we can see that the model has an overall accuracy of 0.98, meaning that it correctly classified 98% of the total observations in the test set.\n",
        "\n",
        "Looking at the precision, recall, and F1-score for each class, we can see that the model performs very well for the \"Normal\" class, with a precision, recall, and F1-score of 0.99. This is expected as the \"Normal\" class is the most represented in the dataset with 18,118 observations.\n",
        "\n",
        "For the other classes, we can see that the performance varies. For instance, the model performs relatively well for the \"Fusion of paced and normal\" class with a precision, recall, and F1-score of 0.98. On the other hand, the model performs less well for the \"Fusion of ventricular and normal\" class, with a precision, recall, and F1-score of 0.85, 0.67, and 0.75, respectively.\n",
        "\n",
        "The macro and weighted average F1-score are 0.89 and 0.98, respectively. The macro-average calculates the F1-score for each class and takes the average, while the weighted average takes the average weighted by the number of observations for each class.\n",
        "\n",
        "Overall, these results indicate that the model performs well in classifying most of the classes in the dataset, but there may be room for improvement in some of the less represented classes."
      ],
      "metadata": {
        "id": "m0DxCXoAADAE"
      }
    },
    {
      "cell_type": "code",
      "source": [
        "# Plotting the training and validatoin results\n",
        "plt.figure(figsize=(25,12))\n",
        "plt.plot(hist.epoch, hist.history['loss'],\n",
        "           color='r', label='Train loss')\n",
        "plt.plot(hist.epoch, hist.history['val_loss'],\n",
        "           color='b', label='Val loss' , linestyle=\"--\")\n",
        "plt.xlabel('Epoch')\n",
        "plt.ylabel('Loss')\n",
        "plt.legend()\n",
        "plt.show()"
      ],
      "metadata": {
        "colab": {
          "base_uri": "https://localhost:8080/",
          "height": 714
        },
        "id": "PdiL2jwcqtTK",
        "outputId": "3f726428-7cff-40ed-e400-cf897b6dd450"
      },
      "execution_count": 46,
      "outputs": [
        {
          "output_type": "display_data",
          "data": {
            "text/plain": [
              "<Figure size 1800x864 with 1 Axes>"
            ],
            "image/png": "[encoded data removed]"
          },
          "metadata": {
            "needs_background": "light"
          }
        }
      ]
    },
    {
      "cell_type": "markdown",
      "source": [
        "### 3.2 Complex CNN with several convolutional layers followed by dense layers"
      ],
      "metadata": {
        "id": "xAfETudxwzrw"
      }
    },
    {
      "cell_type": "markdown",
      "source": [
        "Peviously, we created a simple model which relies solely on dense layers to learn patterns in the data.\n",
        "\n",
        "Now, we attempt to build a more complex model. This model, uses a 1D convolutional layer with a kernel size of 7 and a stride of 1, followed by batch normalization, ReLU activation, and max pooling layers. This pattern is repeated several times with increasing number of filters in the convolutional layers. Then, the output is flattened and fed to several dense layers with dropout regularization, and finally, an output layer with softmax activation function."
      ],
      "metadata": {
        "id": "MgJv7WBoBO7H"
      }
    },
    {
      "cell_type": "markdown",
      "source": [
        "#### 3.2.1 Prepare the data"
      ],
      "metadata": {
        "id": "5rrZEI03Jn9W"
      }
    },
    {
      "cell_type": "code",
      "source": [
        "# Split 20% of the training set for validation\n",
        "train_mit, valid_mit, out_train_mit, out_valid_mit = train_test_split(mit_train.iloc[:,:187], mit_train.iloc[:,-1], test_size=0.20, random_state=42)\n",
        "\n",
        "# Remove the targets from the test set\n",
        "test_mit, out_test_mit = mit_test.iloc[:,:187], mit_test.iloc[:,-1]\n",
        "\n",
        "# Normalizing the training & test data \n",
        "train_mit = normalize(train_mit, axis=0, norm='max')\n",
        "valid_mit = normalize(valid_mit, axis=0, norm='max')\n",
        "test_mit = normalize(test_mit, axis=0, norm='max')"
      ],
      "metadata": {
        "id": "M6IhuuKUuJc7"
      },
      "execution_count": 21,
      "outputs": []
    },
    {
      "cell_type": "code",
      "source": [
        "# Reshaping the dataframe into a 3-D Numpy array (batch, Time Period, Value)\n",
        "x_train_mit = train_mit.reshape(len(train_mit),train_mit.shape[1],1)\n",
        "x_valid_mit = valid_mit.reshape(len(valid_mit),valid_mit.shape[1],1)\n",
        "x_test_mit = test_mit.reshape(len(test_mit),test_mit.shape[1],1)\n",
        "\n",
        "# Converting the output into a categorical array for each class\n",
        "y_train_mit = to_categorical(out_train_mit)\n",
        "y_valid_mit = to_categorical(out_valid_mit)\n",
        "y_test_mit = to_categorical(out_test_mit)"
      ],
      "metadata": {
        "id": "_Jq8XH_9uOV9"
      },
      "execution_count": 22,
      "outputs": []
    },
    {
      "cell_type": "code",
      "source": [
        "print(\"Traing dataset size: \", x_train_mit.shape , \" -- Y size: \", y_train_mit.shape)\n",
        "print(\"Validation dataset size: \", x_valid_mit.shape , \" -- Y size: \", y_valid_mit.shape)\n",
        "print(\"Test dataset size: \", x_test_mit.shape , \" -- Y size: \", y_test_mit.shape)"
      ],
      "metadata": {
        "colab": {
          "base_uri": "https://localhost:8080/"
        },
        "id": "q8-Fhe_fuROL",
        "outputId": "3a9bbad0-1141-404a-cafd-53a6aa30f782"
      },
      "execution_count": 26,
      "outputs": [
        {
          "output_type": "stream",
          "name": "stdout",
          "text": [
            "Traing dataset size:  (70043, 187, 1)  -- Y size:  (70043, 5)\n",
            "Validation dataset size:  (17511, 187, 1)  -- Y size:  (17511, 5)\n",
            "Test dataset size:  (21892, 187, 1)  -- Y size:  (21892, 5)\n"
          ]
        }
      ]
    },
    {
      "cell_type": "markdown",
      "source": [
        "As class imbalance is a problem we encountered before, as some classes have significantly fewer samples than other classes, and subsequently this led to poor performance for those classes during training and testing, now we create Class weights to address this problem by giving more weight to the minority classes during training, thereby ensuring that the model learns to recognize all classes with equal importance."
      ],
      "metadata": {
        "id": "rHELJSVWCl54"
      }
    },
    {
      "cell_type": "code",
      "source": [
        "# Calculating the class weights dictionary to feed into the model\n",
        "normalmit, superpre, prevent, fusion, unclass = np.bincount(mit_train.loc[:,'Class']) # Calculate the number of samples in each class\n",
        "total_rec = len(mit_train)\n",
        "normmit_weight = (1/normalmit) * (total_rec/5) # Calculate the weight for each class \n",
        "superpre_weight = (1/superpre) * (total_rec/5)\n",
        "prevent_weight = (1/prevent) * (total_rec/5)\n",
        "fusion_weight =  (1/fusion) * (total_rec/5)\n",
        "unclass_weight = (1/unclass) * (total_rec/5)\n",
        "class_weight_mit = {0: normmit_weight, 1: superpre_weight, 2: prevent_weight,\n",
        "               3: fusion_weight, 4: unclass_weight} # class weights are stored in a dictionary class_weight_mit with the class label as the key and its weight as the value"
      ],
      "metadata": {
        "id": "mZc27i8iuVgq"
      },
      "execution_count": 27,
      "outputs": []
    },
    {
      "cell_type": "markdown",
      "source": [
        "#### 3.2.2 Build the model"
      ],
      "metadata": {
        "id": "2bwPRPM1JgMx"
      }
    },
    {
      "cell_type": "code",
      "source": [
        "# Clear any existing models or layers from the backend, freeing up memory and resources\n",
        "tf.keras.backend.clear_session() \n",
        "\n",
        "# Function to build Convolutional 1D Networks\n",
        "def build_conv1d_model_mit (input_shape=(x_train_mit.shape[1],1)):\n",
        "    model = keras.models.Sequential()\n",
        "    \n",
        "    model.add(Conv1D(32,7, padding='same', input_shape=input_shape)) # Conv1D = layer with 32 filters, kernel size of 7, and same padding\n",
        "    model.add(tf.keras.layers.ReLU()) # ReLU activation function\n",
        "    model.add(MaxPool1D(5,padding='same')) # MaxPool1D layer with pool size of 5 and same padding. This layer reduces the dimensionality of the output of the previous layer\n",
        "\n",
        "    # Repeated with 64, 128, 256, and 512 filters in subsequent Conv1D layers\n",
        "    model.add(Conv1D(64,7, padding='same'))\n",
        "    model.add(BatchNormalization()) # BatchNormalization layer to normalize the activations of the previous layer\n",
        "    model.add(tf.keras.layers.ReLU())\n",
        "    model.add(MaxPool1D(5,padding='same'))\n",
        "\n",
        "    model.add(Conv1D(128,7, padding='same'))\n",
        "    model.add(BatchNormalization())\n",
        "    model.add(tf.keras.layers.ReLU())\n",
        "    model.add(MaxPool1D(5,padding='same'))\n",
        "\n",
        "    model.add(Conv1D(256,7, padding='same'))\n",
        "    model.add(BatchNormalization())\n",
        "    model.add(tf.keras.layers.ReLU())\n",
        "    model.add(MaxPool1D(5,padding='same'))\n",
        "\n",
        "    model.add(Conv1D(512,7, padding='same'))\n",
        "    model.add(BatchNormalization())\n",
        "    model.add(tf.keras.layers.ReLU())\n",
        "    model.add(MaxPool1D(5,padding='same'))\n",
        "\n",
        "    # Flatten the output of the last convolutional layer to a one-dimensional array.\n",
        "    model.add(Flatten())\n",
        "    # Three fully connected Dense layers with 512, 256, and 128 neurons, each followed by a ReLU activation function \n",
        "    model.add(Dense(512, activation='relu'))\n",
        "    model.add(Dropout(0.5)) # Dropout layer to prevent overfitting\n",
        "    model.add(Dense(256, activation='relu'))\n",
        "    model.add(Dropout(0.5))\n",
        "    model.add(Dense(128, activation='relu'))\n",
        "    model.add(Dropout(0.5))\n",
        "    #Two more fully connected Dense layers with 64 and 32 neurons, each followed by a ReLU activation function\n",
        "    model.add(Dense(64, activation='relu'))\n",
        "    model.add(Dense(32, activation='relu'))\n",
        "    # Final Dense layer with 5 neurons (equal to the number of classes) and a softmax activation function to output class probabilities\n",
        "    model.add(Dense(5, activation=\"softmax\"))\n",
        "\n",
        "    # Compile Model\n",
        "    model.compile(optimizer=\"adam\", loss=\"categorical_crossentropy\", metrics=[tfa.metrics.F1Score(5,\"micro\")])\n",
        "    return model"
      ],
      "metadata": {
        "id": "g2J1U08nuddh"
      },
      "execution_count": 28,
      "outputs": []
    },
    {
      "cell_type": "markdown",
      "source": [
        " The model is complex with multiple convolutional and fully connected layers, and uses batch normalization, dropout, and ReLU activation to improve performance and reduce overfitting.\n",
        "\n",
        "Note: We added the Dropout layer ater having the suspicion that the model might be overfitting. During training, dropout randomly sets a fraction of the input units to 0 at each update, which can help prevent the model from relying too much on any specific subset of inputs, and thus helps to generalize better to new unseen data.\n",
        "\n",
        "We used Dropout layers after each Dense layer, with a rate of 0.5. This means that half of the units in the layer will be randomly set to 0 during each update, effectively dropping them out of the network for that particular forward pass.\n",
        "\n",
        "The Dropout layer in this model helps to prevent overfitting by reducing the dependence of the model on any particular input unit and helps in creating a more generalized model."
      ],
      "metadata": {
        "id": "hzXTqLvLGpNX"
      }
    },
    {
      "cell_type": "code",
      "source": [
        "model_conv1d_mit= build_conv1d_model_mit(input_shape=(x_train_mit.shape[1], x_train_mit.shape[2]))\n",
        "model_conv1d_mit.summary()"
      ],
      "metadata": {
        "colab": {
          "base_uri": "https://localhost:8080/"
        },
        "id": "1ilCUoEtumlp",
        "outputId": "b318581c-22ac-4405-a71b-24d5fcbc44a3"
      },
      "execution_count": 35,
      "outputs": [
        {
          "output_type": "stream",
          "name": "stdout",
          "text": [
            "Model: \"sequential_1\"\n",
            "_________________________________________________________________\n",
            " Layer (type)                Output Shape              Param #   \n",
            "=================================================================\n",
            " conv1d_5 (Conv1D)           (None, 187, 32)           256       \n",
            "                                                                 \n",
            " re_lu_5 (ReLU)              (None, 187, 32)           0         \n",
            "                                                                 \n",
            " max_pooling1d_5 (MaxPooling  (None, 38, 32)           0         \n",
            " 1D)                                                             \n",
            "                                                                 \n",
            " conv1d_6 (Conv1D)           (None, 38, 64)            14400     \n",
            "                                                                 \n",
            " batch_normalization_4 (Batc  (None, 38, 64)           256       \n",
            " hNormalization)                                                 \n",
            "                                                                 \n",
            " re_lu_6 (ReLU)              (None, 38, 64)            0         \n",
            "                                                                 \n",
            " max_pooling1d_6 (MaxPooling  (None, 8, 64)            0         \n",
            " 1D)                                                             \n",
            "                                                                 \n",
            " conv1d_7 (Conv1D)           (None, 8, 128)            57472     \n",
            "                                                                 \n",
            " batch_normalization_5 (Batc  (None, 8, 128)           512       \n",
            " hNormalization)                                                 \n",
            "                                                                 \n",
            " re_lu_7 (ReLU)              (None, 8, 128)            0         \n",
            "                                                                 \n",
            " max_pooling1d_7 (MaxPooling  (None, 2, 128)           0         \n",
            " 1D)                                                             \n",
            "                                                                 \n",
            " conv1d_8 (Conv1D)           (None, 2, 256)            229632    \n",
            "                                                                 \n",
            " batch_normalization_6 (Batc  (None, 2, 256)           1024      \n",
            " hNormalization)                                                 \n",
            "                                                                 \n",
            " re_lu_8 (ReLU)              (None, 2, 256)            0         \n",
            "                                                                 \n",
            " max_pooling1d_8 (MaxPooling  (None, 1, 256)           0         \n",
            " 1D)                                                             \n",
            "                                                                 \n",
            " conv1d_9 (Conv1D)           (None, 1, 512)            918016    \n",
            "                                                                 \n",
            " batch_normalization_7 (Batc  (None, 1, 512)           2048      \n",
            " hNormalization)                                                 \n",
            "                                                                 \n",
            " re_lu_9 (ReLU)              (None, 1, 512)            0         \n",
            "                                                                 \n",
            " max_pooling1d_9 (MaxPooling  (None, 1, 512)           0         \n",
            " 1D)                                                             \n",
            "                                                                 \n",
            " flatten_1 (Flatten)         (None, 512)               0         \n",
            "                                                                 \n",
            " dense_6 (Dense)             (None, 512)               262656    \n",
            "                                                                 \n",
            " dropout_3 (Dropout)         (None, 512)               0         \n",
            "                                                                 \n",
            " dense_7 (Dense)             (None, 256)               131328    \n",
            "                                                                 \n",
            " dropout_4 (Dropout)         (None, 256)               0         \n",
            "                                                                 \n",
            " dense_8 (Dense)             (None, 128)               32896     \n",
            "                                                                 \n",
            " dropout_5 (Dropout)         (None, 128)               0         \n",
            "                                                                 \n",
            " dense_9 (Dense)             (None, 64)                8256      \n",
            "                                                                 \n",
            " dense_10 (Dense)            (None, 32)                2080      \n",
            "                                                                 \n",
            " dense_11 (Dense)            (None, 5)                 165       \n",
            "                                                                 \n",
            "=================================================================\n",
            "Total params: 1,660,997\n",
            "Trainable params: 1,659,077\n",
            "Non-trainable params: 1,920\n",
            "_________________________________________________________________\n"
          ]
        }
      ]
    },
    {
      "cell_type": "code",
      "source": [
        "#from tensorflow.keras.utils import plot_model\n",
        "\n",
        "#tf.keras.utils.plot_model(model_conv1d_mit, show_shapes=True)"
      ],
      "metadata": {
        "id": "KlokgWvGNpi7"
      },
      "execution_count": 133,
      "outputs": []
    },
    {
      "cell_type": "code",
      "source": [
        "history_conv1d_mit = model_conv1d_mit.fit(x_train_mit, y_train_mit, epochs=10, batch_size=32, \n",
        "                             class_weight=class_weight_mit, validation_data=(x_valid_mit, y_valid_mit))"
      ],
      "metadata": {
        "colab": {
          "base_uri": "https://localhost:8080/"
        },
        "id": "YCLLn1AFF8v1",
        "outputId": "e4fd71c6-eb66-4698-ac35-55af4b4b3b5a"
      },
      "execution_count": 38,
      "outputs": [
        {
          "output_type": "stream",
          "name": "stdout",
          "text": [
            "Epoch 1/10\n",
            "2189/2189 [==============================] - 300s 137ms/step - loss: 0.2604 - f1_score: 0.9072 - val_loss: 0.3082 - val_f1_score: 0.9210\n",
            "Epoch 2/10\n",
            "2189/2189 [==============================] - 286s 131ms/step - loss: 0.2658 - f1_score: 0.8955 - val_loss: 0.3036 - val_f1_score: 0.9169\n",
            "Epoch 3/10\n",
            "2189/2189 [==============================] - 280s 128ms/step - loss: 0.2794 - f1_score: 0.8961 - val_loss: 0.3296 - val_f1_score: 0.9135\n",
            "Epoch 4/10\n",
            "2189/2189 [==============================] - 279s 128ms/step - loss: 0.2806 - f1_score: 0.8922 - val_loss: 0.4764 - val_f1_score: 0.8553\n",
            "Epoch 5/10\n",
            "2189/2189 [==============================] - 281s 128ms/step - loss: 0.2660 - f1_score: 0.8991 - val_loss: 0.2591 - val_f1_score: 0.9170\n",
            "Epoch 6/10\n",
            "2189/2189 [==============================] - 279s 127ms/step - loss: 0.2235 - f1_score: 0.9173 - val_loss: 0.2849 - val_f1_score: 0.9230\n",
            "Epoch 7/10\n",
            "2189/2189 [==============================] - 277s 127ms/step - loss: 0.2920 - f1_score: 0.8896 - val_loss: 0.3209 - val_f1_score: 0.9501\n",
            "Epoch 8/10\n",
            "2189/2189 [==============================] - 279s 127ms/step - loss: 0.2896 - f1_score: 0.8947 - val_loss: 0.2741 - val_f1_score: 0.9268\n",
            "Epoch 9/10\n",
            "2189/2189 [==============================] - 282s 129ms/step - loss: 0.2528 - f1_score: 0.9022 - val_loss: 0.1923 - val_f1_score: 0.9488\n",
            "Epoch 10/10\n",
            "2189/2189 [==============================] - 276s 126ms/step - loss: 0.2291 - f1_score: 0.9041 - val_loss: 0.4100 - val_f1_score: 0.8665\n"
          ]
        }
      ]
    },
    {
      "cell_type": "code",
      "source": [
        "# Test model\n",
        "model_conv1d_mit.evaluate(x_test_mit, y_test_mit) # evaluate method computes loss and accuracy of the model\n",
        "conv1d_pred_mit_proba = model_conv1d_mit.predict (x_test_mit) #  predict class probabilities of input signals in test set\n",
        "conv1d_pred_mit = np.argmax(conv1d_pred_mit_proba,axis=1) # give predicted class labels for each input signal in test set"
      ],
      "metadata": {
        "colab": {
          "base_uri": "https://localhost:8080/"
        },
        "id": "Rjf0SqPQqzX9",
        "outputId": "6ceba526-dad7-4c3a-f41b-77e6a0606e7f"
      },
      "execution_count": 42,
      "outputs": [
        {
          "output_type": "stream",
          "name": "stdout",
          "text": [
            "685/685 [==============================] - 12s 17ms/step - loss: 0.4452 - f1_score: 0.8606\n",
            "685/685 [==============================] - 8s 12ms/step\n"
          ]
        }
      ]
    },
    {
      "cell_type": "markdown",
      "source": [
        "#### 3.2.3 Evaluation of the model"
      ],
      "metadata": {
        "id": "u99eojhnKDSs"
      }
    },
    {
      "cell_type": "code",
      "source": [
        "print(classification_report(out_test_mit, conv1d_pred_mit, target_names=[MIT_Outcome[i] for i in MIT_Outcome]))"
      ],
      "metadata": {
        "colab": {
          "base_uri": "https://localhost:8080/"
        },
        "id": "NeOV7Kr7GHA7",
        "outputId": "57279384-e580-422f-9e1d-0263cf25a2f7"
      },
      "execution_count": 43,
      "outputs": [
        {
          "output_type": "stream",
          "name": "stdout",
          "text": [
            "                                       precision    recall  f1-score   support\n",
            "\n",
            "                          Normal Beat       0.98      0.86      0.92     18118\n",
            "                     Artial premature       0.16      0.88      0.28       556\n",
            "    Premature ventricular contraction       0.98      0.74      0.84      1448\n",
            "Fusion of ventricular and normal beat       0.46      0.89      0.61       162\n",
            "                  Unclassifiable Beat       0.99      0.95      0.96      1608\n",
            "\n",
            "                             accuracy                           0.86     21892\n",
            "                            macro avg       0.71      0.86      0.72     21892\n",
            "                         weighted avg       0.95      0.86      0.90     21892\n",
            "\n"
          ]
        }
      ]
    },
    {
      "cell_type": "markdown",
      "source": [
        "Looking at the results, we can see that the model performs very well on the 'Normal Beat' and 'Unclassifiable Beat' classes, with high precision, recall, and F1-scores. However, the model has a low precision for the 'Artial premature' and 'Fusion of ventricular and normal beat' classes, indicating that a large proportion of the positive predictions for these classes are false positives. On the other hand, the model has a low recall for the 'Premature ventricular contraction' class, indicating that a large proportion of the positive cases for this class are missed by the model.\n",
        "\n",
        "Overall, the weighted average F1-score of 0.90 indicates that the model has a decent balance between precision and recall across all classes, although there is definitely room for improvement in the performance of the model for the 'Artial premature', 'Premature ventricular contraction', and 'Fusion of ventricular and normal beat' classes."
      ],
      "metadata": {
        "id": "qOco8tuEqVVe"
      }
    },
    {
      "cell_type": "code",
      "source": [
        "# Plotting the training and validatoin results\n",
        "plt.figure(figsize=(25,12))\n",
        "plt.plot(history_conv1d_mit.epoch, history_conv1d_mit.history['loss'],\n",
        "           color='r', label='Train loss')\n",
        "plt.plot(history_conv1d_mit.epoch, history_conv1d_mit.history['val_loss'],\n",
        "           color='b', label='Val loss' , linestyle=\"--\")\n",
        "plt.xlabel('Epoch')\n",
        "plt.ylabel('Loss')\n",
        "plt.plot(history_conv1d_mit.epoch, history_conv1d_mit.history['f1_score'],\n",
        "           color='g', label='Train F1')\n",
        "plt.plot(history_conv1d_mit.epoch, history_conv1d_mit.history['val_f1_score'],\n",
        "           color='c', label='Val F1' , linestyle=\"--\")\n",
        "plt.xlabel('Epoch')\n",
        "plt.ylabel('Loss')\n",
        "plt.legend()\n",
        "plt.show()"
      ],
      "metadata": {
        "colab": {
          "base_uri": "https://localhost:8080/",
          "height": 714
        },
        "id": "eG2ugjJcGPK1",
        "outputId": "9b22bb84-76d7-4277-ee94-3238b806154e"
      },
      "execution_count": 158,
      "outputs": [
        {
          "output_type": "display_data",
          "data": {
            "text/plain": [
              "<Figure size 1800x864 with 1 Axes>"
            ],
            "image/png": "[encoded data removed]"
          },
          "metadata": {
            "needs_background": "light"
          }
        }
      ]
    }
  ]
}